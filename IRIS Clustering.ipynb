{
 "cells": [
  {
   "cell_type": "code",
   "execution_count": 2,
   "metadata": {},
   "outputs": [],
   "source": [
    "import numpy as np\n",
    "import pandas as pd\n",
    "import matplotlib.pyplot as plt\n",
    "from sklearn.datasets import load_iris"
   ]
  },
  {
   "cell_type": "code",
   "execution_count": 3,
   "metadata": {},
   "outputs": [],
   "source": [
    "data, target = load_iris(return_X_y=True)"
   ]
  },
  {
   "cell_type": "code",
   "execution_count": 4,
   "metadata": {},
   "outputs": [
    {
     "name": "stdout",
     "output_type": "stream",
     "text": [
      "Iris Plants Database\n",
      "====================\n",
      "\n",
      "Notes\n",
      "-----\n",
      "Data Set Characteristics:\n",
      "    :Number of Instances: 150 (50 in each of three classes)\n",
      "    :Number of Attributes: 4 numeric, predictive attributes and the class\n",
      "    :Attribute Information:\n",
      "        - sepal length in cm\n",
      "        - sepal width in cm\n",
      "        - petal length in cm\n",
      "        - petal width in cm\n",
      "        - class:\n",
      "                - Iris-Setosa\n",
      "                - Iris-Versicolour\n",
      "                - Iris-Virginica\n",
      "    :Summary Statistics:\n",
      "\n",
      "    ============== ==== ==== ======= ===== ====================\n",
      "                    Min  Max   Mean    SD   Class Correlation\n",
      "    ============== ==== ==== ======= ===== ====================\n",
      "    sepal length:   4.3  7.9   5.84   0.83    0.7826\n",
      "    sepal width:    2.0  4.4   3.05   0.43   -0.4194\n",
      "    petal length:   1.0  6.9   3.76   1.76    0.9490  (high!)\n",
      "    petal width:    0.1  2.5   1.20  0.76     0.9565  (high!)\n",
      "    ============== ==== ==== ======= ===== ====================\n",
      "\n",
      "    :Missing Attribute Values: None\n",
      "    :Class Distribution: 33.3% for each of 3 classes.\n",
      "    :Creator: R.A. Fisher\n",
      "    :Donor: Michael Marshall (MARSHALL%PLU@io.arc.nasa.gov)\n",
      "    :Date: July, 1988\n",
      "\n",
      "This is a copy of UCI ML iris datasets.\n",
      "http://archive.ics.uci.edu/ml/datasets/Iris\n",
      "\n",
      "The famous Iris database, first used by Sir R.A Fisher\n",
      "\n",
      "This is perhaps the best known database to be found in the\n",
      "pattern recognition literature.  Fisher's paper is a classic in the field and\n",
      "is referenced frequently to this day.  (See Duda & Hart, for example.)  The\n",
      "data set contains 3 classes of 50 instances each, where each class refers to a\n",
      "type of iris plant.  One class is linearly separable from the other 2; the\n",
      "latter are NOT linearly separable from each other.\n",
      "\n",
      "References\n",
      "----------\n",
      "   - Fisher,R.A. \"The use of multiple measurements in taxonomic problems\"\n",
      "     Annual Eugenics, 7, Part II, 179-188 (1936); also in \"Contributions to\n",
      "     Mathematical Statistics\" (John Wiley, NY, 1950).\n",
      "   - Duda,R.O., & Hart,P.E. (1973) Pattern Classification and Scene Analysis.\n",
      "     (Q327.D83) John Wiley & Sons.  ISBN 0-471-22361-1.  See page 218.\n",
      "   - Dasarathy, B.V. (1980) \"Nosing Around the Neighborhood: A New System\n",
      "     Structure and Classification Rule for Recognition in Partially Exposed\n",
      "     Environments\".  IEEE Transactions on Pattern Analysis and Machine\n",
      "     Intelligence, Vol. PAMI-2, No. 1, 67-71.\n",
      "   - Gates, G.W. (1972) \"The Reduced Nearest Neighbor Rule\".  IEEE Transactions\n",
      "     on Information Theory, May 1972, 431-433.\n",
      "   - See also: 1988 MLC Proceedings, 54-64.  Cheeseman et al\"s AUTOCLASS II\n",
      "     conceptual clustering system finds 3 classes in the data.\n",
      "   - Many, many more ...\n",
      "\n"
     ]
    }
   ],
   "source": [
    "print(load_iris().DESCR)"
   ]
  },
  {
   "cell_type": "markdown",
   "metadata": {},
   "source": [
    "As we can see all 4 attributes have quite a bit of correlation with the class, especially the last two columns. Furthermore all three classes are equally disributed. Hence we need not do much preprocessing of the data before applying our models to it."
   ]
  },
  {
   "cell_type": "markdown",
   "metadata": {},
   "source": [
    "## K-means Clustering"
   ]
  },
  {
   "cell_type": "code",
   "execution_count": 5,
   "metadata": {},
   "outputs": [],
   "source": [
    "class K_Means:\n",
    "    def __init__(self, k=10, threshold=0.001, max_iter=300):\n",
    "        self.k = k\n",
    "        self.threshold = threshold\n",
    "        self.max_iter = max_iter\n",
    "\n",
    "    def fit(self,data):\n",
    "\n",
    "        self.centroids = {}\n",
    "        for i in range(self.k):\n",
    "            self.centroids[i] = data[i] # initializing centroids as data points\n",
    "\n",
    "        for i in range(self.max_iter):\n",
    "            self.classifications = {}\n",
    "            for i in range(self.k):\n",
    "                self.classifications[i] = []\n",
    "            for features in data: # assinging data points to these cluster centroids\n",
    "                dist = [np.linalg.norm(features-self.centroids[centroid]) for centroid in self.centroids]\n",
    "                classification = dist.index(min(dist))\n",
    "                self.classifications[classification].append(features) \n",
    "                \n",
    "            prev_centroids = dict(self.centroids)\n",
    "            for classification in self.classifications: # updating the centroid positions\n",
    "                self.centroids[classification] = np.average(self.classifications[classification],axis=0)\n",
    "\n",
    "            optimized = True\n",
    "\n",
    "            for c in self.centroids: # stop updating if centroids do not move much in one iteration.\n",
    "                original_centroid = prev_centroids[c]\n",
    "                current_centroid = self.centroids[c]\n",
    "                if np.sum((current_centroid-original_centroid)/original_centroid*100.0) > self.threshold:\n",
    "                    optimized = False\n",
    "            if optimized:\n",
    "                break\n",
    "\n",
    "    def predict(self,data): # used for assinging clusters to new points\n",
    "        dist = [np.linalg.norm(data-self.centroids[centroid]) for centroid in self.centroids]\n",
    "        classification = dist.index(min(dist))\n",
    "        return classification"
   ]
  },
  {
   "cell_type": "code",
   "execution_count": 6,
   "metadata": {},
   "outputs": [],
   "source": [
    "clf = K_Means(k = 3)\n",
    "clf.fit(data)"
   ]
  },
  {
   "cell_type": "code",
   "execution_count": 7,
   "metadata": {},
   "outputs": [],
   "source": [
    "y_pred = []\n",
    "for x in data:\n",
    "    y_pred.append(2-clf.predict(x))"
   ]
  },
  {
   "cell_type": "code",
   "execution_count": 8,
   "metadata": {},
   "outputs": [
    {
     "name": "stdout",
     "output_type": "stream",
     "text": [
      "Accuracy - 0.8866666666666667\n"
     ]
    }
   ],
   "source": [
    "from sklearn.metrics import accuracy_score\n",
    "print(\"Accuracy - \" + str(accuracy_score(y_pred,target)))"
   ]
  },
  {
   "cell_type": "code",
   "execution_count": 22,
   "metadata": {},
   "outputs": [
    {
     "data": {
      "image/png": "[encoded data removed]",
      "text/plain": [
       "<Figure size 432x288 with 1 Axes>"
      ]
     },
     "metadata": {},
     "output_type": "display_data"
    }
   ],
   "source": [
    "# plotting a 2D graph for any two dimensions. Dimensions can be chosen from 0-3.\n",
    "dimensions = [2,3]\n",
    "for centroid in clf.centroids:\n",
    "    plt.scatter(clf.centroids[centroid][dimensions[0]], clf.centroids[centroid][dimensions[1]], color='black', marker='.', linewidth=20)\n",
    "\n",
    "colors = ['blue','red','yellow'] # different colors for clusters\n",
    "for classification in clf.classifications:\n",
    "    for features in clf.classifications[classification]:\n",
    "        plt.scatter(features[dimensions[0]], features[dimensions[1]], color=colors[2-classification])\n",
    "\n",
    "plt.show()"
   ]
  },
  {
   "cell_type": "markdown",
   "metadata": {},
   "source": [
    "## Expectation Maximization using Gaussian Mixture Models"
   ]
  },
  {
   "cell_type": "code",
   "execution_count": 12,
   "metadata": {},
   "outputs": [],
   "source": [
    "import math"
   ]
  },
  {
   "cell_type": "code",
   "execution_count": 15,
   "metadata": {},
   "outputs": [],
   "source": [
    "class GaussianMixtureModel():\n",
    "    \n",
    "    def __init__(self, k=3, max_iterations=2000, tolerance=1e-8):\n",
    "        self.k = k\n",
    "        self.parameters = []\n",
    "        self.max_iterations = max_iterations\n",
    "        self.tolerance = tolerance\n",
    "        self.responsibilities = []\n",
    "        self.sample_assignments = None\n",
    "        self.responsibility = None\n",
    "\n",
    "    def init_random_gaussians(self, X):\n",
    "        n_samples = np.shape(X)[0]\n",
    "        self.priors = (1 / self.k) * np.ones(self.k)\n",
    "        for i in range(self.k):\n",
    "            params = {}\n",
    "            params[\"mean\"] = X[np.random.choice(range(n_samples))]\n",
    "            params[\"cov\"] = np.cov(X.T)\n",
    "            self.parameters.append(params)\n",
    "    \n",
    "    def converged(self, X):\n",
    "        if len(self.responsibilities) < 2:\n",
    "            return False\n",
    "        diff = np.linalg.norm(self.responsibilities[-1] - self.responsibilities[-2])\n",
    "        return diff <= self.tolerance\n",
    "    \n",
    "    def expectation(self, X):\n",
    "        weighted_likelihoods = self.get_likelihoods(X) * self.priors\n",
    "        sum_likelihoods = np.expand_dims(np.sum(weighted_likelihoods, axis=1), axis=1)\n",
    "        self.responsibility = weighted_likelihoods / sum_likelihoods\n",
    "        self.sample_assignments = self.responsibility.argmax(axis=1) # Assigning samples to cluster that has largest probability\n",
    "        self.responsibilities.append(np.max(self.responsibility, axis=1))  # Saving value to chech for convergence\n",
    "\n",
    "    def maximization(self, X):\n",
    "        for i in range(self.k): # Iterate through clusters and recalculate mean and covariance\n",
    "            resp = np.expand_dims(self.responsibility[:, i], axis=1)\n",
    "            mean = (resp * X).sum(axis=0) / resp.sum()\n",
    "            covariance = (X - mean).T.dot((X - mean) * resp) / resp.sum()\n",
    "            self.parameters[i][\"mean\"], self.parameters[i][\"cov\"] = mean, covariance\n",
    "\n",
    "        n_samples = np.shape(X)[0]\n",
    "        self.priors = self.responsibility.sum(axis=0) / n_samples   # Update weights accordingly\n",
    "\n",
    "    def multivariate_gaussian(self, X, params):\n",
    "        n_features = np.shape(X)[1]\n",
    "        mean = params[\"mean\"]\n",
    "        covar = params[\"cov\"]\n",
    "        determinant = np.linalg.det(covar)\n",
    "        likelihoods = np.zeros(np.shape(X)[0])\n",
    "        for i, sample in enumerate(X): # calculate likehood over all samples\n",
    "            d = n_features\n",
    "            coeff = (1.0 / (math.pow((2.0 * math.pi), d / 2) * math.sqrt(determinant)))\n",
    "            exponent = math.exp(-0.5 * (sample - mean).T.dot(np.linalg.pinv(covar)).dot((sample - mean)))\n",
    "            likelihoods[i] = coeff * exponent\n",
    "\n",
    "        return likelihoods\n",
    "\n",
    "    def get_likelihoods(self, X):\n",
    "        n_samples = np.shape(X)[0]\n",
    "        likelihoods = np.zeros((n_samples, self.k))\n",
    "        for i in range(self.k): # Calculating probabilities of X belonging to the different clusters\n",
    "            likelihoods[:, i] = self.multivariate_gaussian(X, self.parameters[i])\n",
    "        return likelihoods\n",
    "\n",
    "    def fit_predict(self, X):\n",
    "        self.init_random_gaussians(X) # Initialize the gaussians randomly\n",
    "\n",
    "        for i in range(self.max_iterations): # Performing expectation maximization\n",
    "            self.expectation(X)\n",
    "            self.maximization(X)\n",
    "\n",
    "            if self.converged(X): # Break if values have converged\n",
    "                break\n",
    "                \n",
    "        self.expectation(X)\n",
    "        return self.sample_assignments # Return the assigned clusters"
   ]
  },
  {
   "cell_type": "code",
   "execution_count": 16,
   "metadata": {},
   "outputs": [
    {
     "data": {
      "text/plain": [
       "array([1, 1, 1, 1, 1, 1, 1, 1, 1, 1, 1, 1, 1, 1, 1, 1, 1, 1, 1, 1, 1, 1,\n",
       "       1, 1, 1, 1, 1, 1, 1, 1, 1, 1, 1, 1, 1, 1, 1, 1, 1, 1, 1, 1, 1, 1,\n",
       "       1, 1, 1, 1, 1, 1, 0, 0, 0, 0, 0, 2, 0, 0, 0, 2, 0, 2, 0, 2, 0, 0,\n",
       "       2, 2, 0, 0, 2, 0, 0, 2, 0, 0, 0, 2, 2, 0, 0, 0, 0, 2, 2, 2, 0, 0,\n",
       "       0, 0, 2, 0, 0, 0, 0, 2, 0, 0, 0, 0, 2, 2, 2, 2, 2, 0, 2, 0, 0, 2,\n",
       "       2, 2, 2, 2, 2, 2, 2, 0, 0, 0, 2, 2, 0, 2, 2, 0, 2, 2, 2, 0, 0, 0,\n",
       "       2, 0, 2, 2, 2, 2, 2, 2, 2, 2, 2, 2, 2, 2, 2, 2, 2, 2])"
      ]
     },
     "execution_count": 16,
     "metadata": {},
     "output_type": "execute_result"
    }
   ],
   "source": [
    "gmm = GaussianMixtureModel()\n",
    "gmm.fit_predict(data)"
   ]
  },
  {
   "cell_type": "code",
   "execution_count": 18,
   "metadata": {},
   "outputs": [],
   "source": [
    "clusters = gmm.fit_predict(data)\n",
    "y_pred = np.copy(clusters) # as we can see from the above cell the first cluster is given the number 1 while the\n",
    "y_pred[clusters == 1] = 0  # second cluster is given the number 0. Hence we swap these labels before calculating\n",
    "y_pred[clusters == 0] = 1  # the accuracy"
   ]
  },
  {
   "cell_type": "code",
   "execution_count": 19,
   "metadata": {},
   "outputs": [
    {
     "name": "stdout",
     "output_type": "stream",
     "text": [
      "Accuracy - 0.82\n"
     ]
    }
   ],
   "source": [
    "print(\"Accuracy - \" + str(accuracy_score(y_pred,target)))"
   ]
  },
  {
   "cell_type": "code",
   "execution_count": 21,
   "metadata": {},
   "outputs": [
    {
     "data": {
      "image/png": "[encoded data removed]",
      "text/plain": [
       "<Figure size 432x288 with 1 Axes>"
      ]
     },
     "metadata": {},
     "output_type": "display_data"
    }
   ],
   "source": [
    "# plotting a 2D graph for any two dimensions. Dimensions can be chosen from 0-3.\n",
    "dimensions = [2,3]\n",
    "\n",
    "colors = ['blue','red','yellow'] # different colors for clusters\n",
    "for i,x in enumerate(data):\n",
    "    plt.scatter(x[dimensions[0]],x[dimensions[1]], color = colors[y_pred[i]])\n",
    "plt.show()"
   ]
  },
  {
   "cell_type": "markdown",
   "metadata": {},
   "source": [
    "## Mean Shift Clustering"
   ]
  },
  {
   "cell_type": "code",
   "execution_count": 23,
   "metadata": {},
   "outputs": [],
   "source": [
    "class Mean_Shift:\n",
    "    def __init__(self, radius=1.6):\n",
    "        self.radius = radius\n",
    "\n",
    "    def fit(self, data):\n",
    "        centroids = {}\n",
    "\n",
    "        for i in range(len(data)):\n",
    "            centroids[i] = data[i] # initialize centroids\n",
    "        \n",
    "        while True:\n",
    "            new_centroids = []\n",
    "            for i in centroids:\n",
    "                in_bandwidth = []\n",
    "                centroid = centroids[i]\n",
    "                for featureset in data:\n",
    "                    if np.linalg.norm(featureset-centroid) < self.radius: # form cluster of all points within this fixed radius\n",
    "                        in_bandwidth.append(featureset)\n",
    "\n",
    "                new_centroid = np.average(in_bandwidth,axis=0)\n",
    "                new_centroids.append(tuple(new_centroid))\n",
    "\n",
    "            uniques = sorted(list(set(new_centroids))) # keep removing centroid which have same points in their radius\n",
    "\n",
    "            prev_centroids = dict(centroids)\n",
    "\n",
    "            centroids = {}\n",
    "            for i in range(len(uniques)):\n",
    "                centroids[i] = np.array(uniques[i])\n",
    "\n",
    "            optimized = True\n",
    "\n",
    "            for i in centroids:\n",
    "                if not np.array_equal(centroids[i], prev_centroids[i]): # stop when all similar clusters have been removed\n",
    "                    optimized = False\n",
    "                if not optimized:\n",
    "                    break\n",
    "                \n",
    "            if optimized:\n",
    "                break\n",
    "\n",
    "        self.centroids = centroids\n",
    "        \n",
    "    def predict(self, data):\n",
    "        distances = [np.linalg.norm(data-self.centroids[centroid]) for centroid in self.centroids]\n",
    "        classification = distances.index(min(distances))\n",
    "        return classification"
   ]
  },
  {
   "cell_type": "code",
   "execution_count": 24,
   "metadata": {},
   "outputs": [],
   "source": [
    "clf = Mean_Shift()\n",
    "clf.fit(data)"
   ]
  },
  {
   "cell_type": "code",
   "execution_count": 25,
   "metadata": {},
   "outputs": [
    {
     "name": "stdout",
     "output_type": "stream",
     "text": [
      "{0: array([5.006, 3.418, 1.464, 0.244]), 1: array([6.17209302, 2.86627907, 4.80930233, 1.65813953]), 2: array([6.18390805, 2.87011494, 4.82298851, 1.65977011]), 3: array([6.18953488, 2.87325581, 4.83837209, 1.66744186])}\n"
     ]
    }
   ],
   "source": [
    "centroids = clf.centroids\n",
    "print(centroids)"
   ]
  },
  {
   "cell_type": "code",
   "execution_count": 26,
   "metadata": {},
   "outputs": [],
   "source": [
    "del(clf.centroids[3]) # as we can see from the coordinates, cluster number 3 is almost a copy of cluster 2 and we need only 3 clusters hence we discard it."
   ]
  },
  {
   "cell_type": "code",
   "execution_count": 27,
   "metadata": {},
   "outputs": [],
   "source": [
    "y_pred = []\n",
    "for x in data:\n",
    "    y_pred.append(clf.predict(x))"
   ]
  },
  {
   "cell_type": "code",
   "execution_count": 28,
   "metadata": {},
   "outputs": [
    {
     "name": "stdout",
     "output_type": "stream",
     "text": [
      "Accuracy - 0.8733333333333333\n"
     ]
    }
   ],
   "source": [
    "print(\"Accuracy - \" + str(accuracy_score(y_pred,target)))"
   ]
  },
  {
   "cell_type": "code",
   "execution_count": 29,
   "metadata": {},
   "outputs": [
    {
     "data": {
      "image/png": "[encoded data removed]",
      "text/plain": [
       "<Figure size 432x288 with 1 Axes>"
      ]
     },
     "metadata": {},
     "output_type": "display_data"
    }
   ],
   "source": [
    "# plotting a 2D graph for any two dimensions. Dimensions can be chosen from 0-3.\n",
    "dimensions = [2,3]\n",
    "\n",
    "colors = ['blue','red','yellow'] # different colors for clusters\n",
    "for i,x in enumerate(data):\n",
    "    plt.scatter(x[dimensions[0]],x[dimensions[1]], color = colors[y_pred[i]])\n",
    "plt.show()"
   ]
  },
  {
   "cell_type": "code",
   "execution_count": null,
   "metadata": {},
   "outputs": [],
   "source": []
  }
 ],
 "metadata": {
  "kernelspec": {
   "display_name": "Python 3",
   "language": "python",
   "name": "python3"
  },
  "language_info": {
   "codemirror_mode": {
    "name": "ipython",
    "version": 3
   },
   "file_extension": ".py",
   "mimetype": "text/x-python",
   "name": "python",
   "nbconvert_exporter": "python",
   "pygments_lexer": "ipython3",
   "version": "3.6.5"
  }
 },
 "nbformat": 4,
 "nbformat_minor": 2
}
